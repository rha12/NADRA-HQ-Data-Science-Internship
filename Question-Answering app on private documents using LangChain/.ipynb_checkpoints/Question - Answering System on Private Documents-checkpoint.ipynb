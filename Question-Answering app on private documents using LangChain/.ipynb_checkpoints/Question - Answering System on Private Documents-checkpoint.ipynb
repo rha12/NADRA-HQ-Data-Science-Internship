{
 "cells": [
  {
   "cell_type": "markdown",
   "id": "784ff5e4",
   "metadata": {},
   "source": [
    "# Project: Question-Answering on Private Documents\n",
    "\n",
    "## Project Pipeline:\n",
    "\n",
    "* Prepare the document,\n",
    "* Embed the query,\n",
    "* Ask questions.\n"
   ]
  },
  {
   "cell_type": "markdown",
   "id": "c5f4269d",
   "metadata": {},
   "source": [
    "## Installing necessary Libraries"
   ]
  },
  {
   "cell_type": "code",
   "execution_count": 1,
   "id": "12384fbe",
   "metadata": {},
   "outputs": [],
   "source": [
    "!pip install -r requirements.txt -q"
   ]
  },
  {
   "cell_type": "code",
   "execution_count": 2,
   "id": "2cda1751",
   "metadata": {},
   "outputs": [
    {
     "name": "stdout",
     "output_type": "stream",
     "text": [
      "Name: langchain\n",
      "Version: 0.0.254\n",
      "Summary: Building applications with LLMs through composability\n",
      "Home-page: https://www.github.com/hwchase17/langchain\n",
      "Author: \n",
      "Author-email: \n",
      "License: MIT\n",
      "Location: c:\\users\\think\\anaconda3\\lib\\site-packages\n",
      "Requires: requests, PyYAML, dataclasses-json, openapi-schema-pydantic, SQLAlchemy, pydantic, numexpr, async-timeout, tenacity, numpy, aiohttp, langsmith\n",
      "Required-by: \n"
     ]
    }
   ],
   "source": [
    "!pip show LangChain"
   ]
  },
  {
   "cell_type": "code",
   "execution_count": 3,
   "id": "26b3552a",
   "metadata": {},
   "outputs": [],
   "source": [
    "!pip install langchain --upgrade -q"
   ]
  },
  {
   "cell_type": "markdown",
   "id": "a138a848",
   "metadata": {},
   "source": [
    "## Python-dotenv"
   ]
  },
  {
   "cell_type": "code",
   "execution_count": 4,
   "id": "e4252b93",
   "metadata": {},
   "outputs": [
    {
     "data": {
      "text/plain": [
       "True"
      ]
     },
     "execution_count": 4,
     "metadata": {},
     "output_type": "execute_result"
    }
   ],
   "source": [
    "import os\n",
    "from dotenv import load_dotenv,find_dotenv\n",
    "\n",
    "load_dotenv(find_dotenv(), override=True)"
   ]
  },
  {
   "cell_type": "markdown",
   "id": "6d881d57",
   "metadata": {},
   "source": [
    "## Prepare the document\n",
    "* Load the document.\n",
    "* Make chunks of the document.\n",
    "* Make embedding of the chunk.\n",
    "* Store embedding in a vector database such as pinecone etc."
   ]
  },
  {
   "cell_type": "code",
   "execution_count": 6,
   "id": "124b6a64",
   "metadata": {},
   "outputs": [],
   "source": [
    "!pip install pypdf -q\n",
    "!pip install wikipedia -q"
   ]
  },
  {
   "cell_type": "markdown",
   "id": "4de5c745",
   "metadata": {},
   "source": [
    "## Loading the document"
   ]
  },
  {
   "cell_type": "code",
   "execution_count": 7,
   "id": "69420d63",
   "metadata": {},
   "outputs": [],
   "source": [
    "# function to load document\n",
    "def load_doc(file):\n",
    "    from langchain.document_loaders import PyPDFLoader\n",
    "    print(f'Loading {file}....')\n",
    "    loader = PyPDFLoader(file)\n",
    "    data=loader.load()\n",
    "    return data"
   ]
  },
  {
   "cell_type": "markdown",
   "id": "1cf14802",
   "metadata": {},
   "source": [
    "## Chunking"
   ]
  },
  {
   "cell_type": "code",
   "execution_count": 8,
   "id": "a2ed4207",
   "metadata": {},
   "outputs": [],
   "source": [
    "# function to split the data from document_loader to chunks\n",
    "def chunk_data(data,chunk_size=256):\n",
    "    from langchain.text_splitter import RecursiveCharacterTextSplitter\n",
    "    text_splitter = RecursiveCharacterTextSplitter(chunk_size=chunk_size,chunk_overlap=0)\n",
    "    chunks= text_splitter.split_documents(data)\n",
    "    return chunks"
   ]
  },
  {
   "cell_type": "markdown",
   "id": "5877c566",
   "metadata": {},
   "source": [
    "## Calculating cost"
   ]
  },
  {
   "cell_type": "code",
   "execution_count": 9,
   "id": "290db20d",
   "metadata": {},
   "outputs": [],
   "source": [
    "# function to calculate and print the cost of creating embeddings\n",
    "def print_embedding_cost(texts):\n",
    "    import tiktoken\n",
    "    enc = tiktoken.encoding_for_model('text-embedding-ada-002')\n",
    "    total_tokens=sum([len(enc.encode(page.page_content))for page in texts])\n",
    "    print(f'Total tokens:{total_tokens}')\n",
    "    print(f'Embedding Cost in USD: {total_tokens/1000 *0.0004:.6f} ')\n",
    " "
   ]
  },
  {
   "cell_type": "markdown",
   "id": "edf21158",
   "metadata": {},
   "source": [
    "## Create and delete index from Vector Database(Pinecone)"
   ]
  },
  {
   "cell_type": "code",
   "execution_count": 10,
   "id": "ad534796",
   "metadata": {},
   "outputs": [],
   "source": [
    "# function that creates and populate a pinecone index with the embeddings\n",
    "def creating_vector_store(index_name):\n",
    "    import pinecone\n",
    "  \n",
    "    if index_name not in pinecone.list_indexes():\n",
    "        print(f'Creating index {index_name}.')\n",
    "        pinecone.create_index(index_name, dimension=1536, metric = 'cosine')\n",
    "        print(f'Index {index_name} created.')\n",
    "        \n",
    "    else:\n",
    "        print(f'Index {index_name} already exists...')"
   ]
  },
  {
   "cell_type": "code",
   "execution_count": 11,
   "id": "9c2125ad",
   "metadata": {},
   "outputs": [],
   "source": [
    "def delete_pinecone_index(index_name='all'):\n",
    "    \n",
    "    import pinecone\n",
    "    pinecone.init(\n",
    "    api_key=os.environ.get(\"PINECONE_API_KEY\"),\n",
    "    environment=os.environ.get(\"PINECONE_ENV\")\n",
    "    )  \n",
    "    \n",
    "    if index_name == \"all\":\n",
    "        \n",
    "        indexes = pinecone.list_indexes()\n",
    "        print('Deleting all indexes...',end='')\n",
    "        for index in indexes:\n",
    "            pinecone.delete_index(index)\n",
    "        print('Ok')\n",
    "    else:\n",
    "        print(f'Deleting {index_name}....',end='')\n",
    "        pinecone.delete_index(index_name)\n",
    "        print('Ok')"
   ]
  },
  {
   "cell_type": "markdown",
   "id": "290de9fc",
   "metadata": {},
   "source": [
    "## Asking and Gettings Answers"
   ]
  },
  {
   "cell_type": "code",
   "execution_count": 24,
   "id": "a1396a91",
   "metadata": {},
   "outputs": [],
   "source": [
    "def ask_and_get_answer(vector_store, query):\n",
    "    \n",
    "    from langchain.chains import RetrievalQA\n",
    "    from langchain.chat_models import ChatOpenAI\n",
    "\n",
    "    llm = ChatOpenAI(temperature = 0)\n",
    "\n",
    "    retriever = vector_store.as_retriever(\n",
    "        search_type='similarity',\n",
    "        search_kwargs={'k':3}\n",
    "    )\n",
    "\n",
    "    chain = RetrievalQA.from_chain_type(\n",
    "        llm=llm,\n",
    "        chain_type='stuff',\n",
    "        retriever = retriever \n",
    "    )\n",
    "    \n",
    "    answer = chain.run(query)\n",
    "    return answer\n",
    "\n",
    "\n",
    "def ask_with_memory(vector_store, query,chat_history=[]):\n",
    "    \n",
    "    from langchain.chains import ConversationalRetrievalChain\n",
    "    from langchain.chat_models import ChatOpenAI\n",
    "    \n",
    "    llm = ChatOpenAI(temperature =0)\n",
    "    \n",
    "    retriever = vector_store.as_retriever(\n",
    "        search_type='similarity',\n",
    "        search_kwargs={'k':3}\n",
    "    )\n",
    "    \n",
    "    crc=ConversationalRetrievalChain.from_llm(llm,retriever)\n",
    "    result=crc({'question':query, 'chat_history':chat_history})\n",
    "    chat_history.append((query,result['answer']))\n",
    "    \n",
    "    return result,chat_history"
   ]
  },
  {
   "cell_type": "markdown",
   "id": "13147d2f",
   "metadata": {},
   "source": [
    "## Running Code"
   ]
  },
  {
   "cell_type": "code",
   "execution_count": 13,
   "id": "f13b6bf6",
   "metadata": {},
   "outputs": [
    {
     "name": "stdout",
     "output_type": "stream",
     "text": [
      "Loading ./files/The Constitution of Pakistan.pdf....\n"
     ]
    }
   ],
   "source": [
    "data= load_doc('./files/The Constitution of Pakistan.pdf')"
   ]
  },
  {
   "cell_type": "code",
   "execution_count": 14,
   "id": "56e1168c",
   "metadata": {},
   "outputs": [
    {
     "name": "stdout",
     "output_type": "stream",
     "text": [
      "There are 209 pages in the document.\n"
     ]
    }
   ],
   "source": [
    "print(f'There are {len(data)} pages in the document.')"
   ]
  },
  {
   "cell_type": "code",
   "execution_count": 15,
   "id": "4fb6c79b",
   "metadata": {},
   "outputs": [],
   "source": [
    "chunks = chunk_data(data)"
   ]
  },
  {
   "cell_type": "code",
   "execution_count": 16,
   "id": "802c36ed",
   "metadata": {},
   "outputs": [
    {
     "data": {
      "text/plain": [
       "'CONSTITUTION OF PAKISTAN   \\n 3 PART I \\n \\nIntroductory \\n \\n1. The Republic and its territories \\n \\n11. (1) Pakistan shall be Federal Republic to be known as the \\nIslamic Republic of Pakistan, hereinafter referred to as Pakistan.'"
      ]
     },
     "execution_count": 16,
     "metadata": {},
     "output_type": "execute_result"
    }
   ],
   "source": [
    "chunks[0].page_content"
   ]
  },
  {
   "cell_type": "code",
   "execution_count": 17,
   "id": "19bc75eb",
   "metadata": {},
   "outputs": [
    {
     "data": {
      "text/plain": [
       "1931"
      ]
     },
     "execution_count": 17,
     "metadata": {},
     "output_type": "execute_result"
    }
   ],
   "source": [
    "len(chunks)"
   ]
  },
  {
   "cell_type": "code",
   "execution_count": 18,
   "id": "07f545e5",
   "metadata": {},
   "outputs": [
    {
     "name": "stdout",
     "output_type": "stream",
     "text": [
      "Total tokens:99065\n",
      "Embedding Cost in USD: 0.039626 \n"
     ]
    }
   ],
   "source": [
    "print_embedding_cost(chunks)"
   ]
  },
  {
   "cell_type": "code",
   "execution_count": 19,
   "id": "2c546972",
   "metadata": {},
   "outputs": [
    {
     "name": "stderr",
     "output_type": "stream",
     "text": [
      "C:\\Users\\THINK\\AppData\\Roaming\\Python\\Python39\\site-packages\\pinecone\\index.py:4: TqdmExperimentalWarning: Using `tqdm.autonotebook.tqdm` in notebook mode. Use `tqdm.tqdm` instead to force console mode (e.g. in jupyter console)\n",
      "  from tqdm.autonotebook import tqdm\n"
     ]
    },
    {
     "name": "stdout",
     "output_type": "stream",
     "text": [
      "Deleting all indexes...Ok\n"
     ]
    }
   ],
   "source": [
    "delete_pinecone_index()"
   ]
  },
  {
   "cell_type": "code",
   "execution_count": 20,
   "id": "304d41c6",
   "metadata": {},
   "outputs": [
    {
     "name": "stdout",
     "output_type": "stream",
     "text": [
      "Creating index ask-chat-gpt.\n",
      "Index ask-chat-gpt created.\n"
     ]
    }
   ],
   "source": [
    "index_name = \"ask-chat-gpt\"\n",
    "creating_vector_store(index_name)"
   ]
  },
  {
   "cell_type": "code",
   "execution_count": 21,
   "id": "91419a6f",
   "metadata": {},
   "outputs": [
    {
     "name": "stderr",
     "output_type": "stream",
     "text": [
      "Retrying langchain.embeddings.openai.embed_with_retry.<locals>._embed_with_retry in 4.0 seconds as it raised RateLimitError: Rate limit reached for default-text-embedding-ada-002 in organization org-Zgvqg40aCEUeeAAUlnbvIafN on requests per min. Limit: 3 / min. Please try again in 20s. Contact us through our help center at help.openai.com if you continue to have issues. Please add a payment method to your account to increase your rate limit. Visit https://platform.openai.com/account/billing to add a payment method..\n",
      "Retrying langchain.embeddings.openai.embed_with_retry.<locals>._embed_with_retry in 4.0 seconds as it raised RateLimitError: Rate limit reached for default-text-embedding-ada-002 in organization org-Zgvqg40aCEUeeAAUlnbvIafN on requests per min. Limit: 3 / min. Please try again in 20s. Contact us through our help center at help.openai.com if you continue to have issues. Please add a payment method to your account to increase your rate limit. Visit https://platform.openai.com/account/billing to add a payment method..\n",
      "Retrying langchain.embeddings.openai.embed_with_retry.<locals>._embed_with_retry in 4.0 seconds as it raised RateLimitError: Rate limit reached for default-text-embedding-ada-002 in organization org-Zgvqg40aCEUeeAAUlnbvIafN on requests per min. Limit: 3 / min. Please try again in 20s. Contact us through our help center at help.openai.com if you continue to have issues. Please add a payment method to your account to increase your rate limit. Visit https://platform.openai.com/account/billing to add a payment method..\n",
      "Retrying langchain.embeddings.openai.embed_with_retry.<locals>._embed_with_retry in 4.0 seconds as it raised RateLimitError: Rate limit reached for default-text-embedding-ada-002 in organization org-Zgvqg40aCEUeeAAUlnbvIafN on requests per min. Limit: 3 / min. Please try again in 20s. Contact us through our help center at help.openai.com if you continue to have issues. Please add a payment method to your account to increase your rate limit. Visit https://platform.openai.com/account/billing to add a payment method..\n",
      "Retrying langchain.embeddings.openai.embed_with_retry.<locals>._embed_with_retry in 4.0 seconds as it raised RateLimitError: Rate limit reached for default-text-embedding-ada-002 in organization org-Zgvqg40aCEUeeAAUlnbvIafN on requests per min. Limit: 3 / min. Please try again in 20s. Contact us through our help center at help.openai.com if you continue to have issues. Please add a payment method to your account to increase your rate limit. Visit https://platform.openai.com/account/billing to add a payment method..\n",
      "Retrying langchain.embeddings.openai.embed_with_retry.<locals>._embed_with_retry in 4.0 seconds as it raised RateLimitError: Rate limit reached for default-text-embedding-ada-002 in organization org-Zgvqg40aCEUeeAAUlnbvIafN on requests per min. Limit: 3 / min. Please try again in 20s. Contact us through our help center at help.openai.com if you continue to have issues. Please add a payment method to your account to increase your rate limit. Visit https://platform.openai.com/account/billing to add a payment method..\n",
      "Retrying langchain.embeddings.openai.embed_with_retry.<locals>._embed_with_retry in 4.0 seconds as it raised RateLimitError: Rate limit reached for default-text-embedding-ada-002 in organization org-Zgvqg40aCEUeeAAUlnbvIafN on requests per min. Limit: 3 / min. Please try again in 20s. Contact us through our help center at help.openai.com if you continue to have issues. Please add a payment method to your account to increase your rate limit. Visit https://platform.openai.com/account/billing to add a payment method..\n",
      "Retrying langchain.embeddings.openai.embed_with_retry.<locals>._embed_with_retry in 8.0 seconds as it raised RateLimitError: Rate limit reached for default-text-embedding-ada-002 in organization org-Zgvqg40aCEUeeAAUlnbvIafN on requests per min. Limit: 3 / min. Please try again in 20s. Contact us through our help center at help.openai.com if you continue to have issues. Please add a payment method to your account to increase your rate limit. Visit https://platform.openai.com/account/billing to add a payment method..\n",
      "Retrying langchain.embeddings.openai.embed_with_retry.<locals>._embed_with_retry in 4.0 seconds as it raised RateLimitError: Rate limit reached for default-text-embedding-ada-002 in organization org-Zgvqg40aCEUeeAAUlnbvIafN on requests per min. Limit: 3 / min. Please try again in 20s. Contact us through our help center at help.openai.com if you continue to have issues. Please add a payment method to your account to increase your rate limit. Visit https://platform.openai.com/account/billing to add a payment method..\n",
      "Retrying langchain.embeddings.openai.embed_with_retry.<locals>._embed_with_retry in 4.0 seconds as it raised RateLimitError: Rate limit reached for default-text-embedding-ada-002 in organization org-Zgvqg40aCEUeeAAUlnbvIafN on requests per min. Limit: 3 / min. Please try again in 20s. Contact us through our help center at help.openai.com if you continue to have issues. Please add a payment method to your account to increase your rate limit. Visit https://platform.openai.com/account/billing to add a payment method..\n",
      "Retrying langchain.embeddings.openai.embed_with_retry.<locals>._embed_with_retry in 4.0 seconds as it raised RateLimitError: Rate limit reached for default-text-embedding-ada-002 in organization org-Zgvqg40aCEUeeAAUlnbvIafN on requests per min. Limit: 3 / min. Please try again in 20s. Contact us through our help center at help.openai.com if you continue to have issues. Please add a payment method to your account to increase your rate limit. Visit https://platform.openai.com/account/billing to add a payment method..\n",
      "Retrying langchain.embeddings.openai.embed_with_retry.<locals>._embed_with_retry in 4.0 seconds as it raised RateLimitError: Rate limit reached for default-text-embedding-ada-002 in organization org-Zgvqg40aCEUeeAAUlnbvIafN on requests per min. Limit: 3 / min. Please try again in 20s. Contact us through our help center at help.openai.com if you continue to have issues. Please add a payment method to your account to increase your rate limit. Visit https://platform.openai.com/account/billing to add a payment method..\n",
      "Retrying langchain.embeddings.openai.embed_with_retry.<locals>._embed_with_retry in 4.0 seconds as it raised RateLimitError: Rate limit reached for default-text-embedding-ada-002 in organization org-Zgvqg40aCEUeeAAUlnbvIafN on requests per min. Limit: 3 / min. Please try again in 20s. Contact us through our help center at help.openai.com if you continue to have issues. Please add a payment method to your account to increase your rate limit. Visit https://platform.openai.com/account/billing to add a payment method..\n",
      "Retrying langchain.embeddings.openai.embed_with_retry.<locals>._embed_with_retry in 4.0 seconds as it raised RateLimitError: Rate limit reached for default-text-embedding-ada-002 in organization org-Zgvqg40aCEUeeAAUlnbvIafN on requests per min. Limit: 3 / min. Please try again in 20s. Contact us through our help center at help.openai.com if you continue to have issues. Please add a payment method to your account to increase your rate limit. Visit https://platform.openai.com/account/billing to add a payment method..\n",
      "Retrying langchain.embeddings.openai.embed_with_retry.<locals>._embed_with_retry in 4.0 seconds as it raised RateLimitError: Rate limit reached for default-text-embedding-ada-002 in organization org-Zgvqg40aCEUeeAAUlnbvIafN on requests per min. Limit: 3 / min. Please try again in 20s. Contact us through our help center at help.openai.com if you continue to have issues. Please add a payment method to your account to increase your rate limit. Visit https://platform.openai.com/account/billing to add a payment method..\n",
      "Retrying langchain.embeddings.openai.embed_with_retry.<locals>._embed_with_retry in 4.0 seconds as it raised RateLimitError: Rate limit reached for default-text-embedding-ada-002 in organization org-Zgvqg40aCEUeeAAUlnbvIafN on requests per min. Limit: 3 / min. Please try again in 20s. Contact us through our help center at help.openai.com if you continue to have issues. Please add a payment method to your account to increase your rate limit. Visit https://platform.openai.com/account/billing to add a payment method..\n"
     ]
    },
    {
     "name": "stderr",
     "output_type": "stream",
     "text": [
      "Retrying langchain.embeddings.openai.embed_with_retry.<locals>._embed_with_retry in 4.0 seconds as it raised RateLimitError: Rate limit reached for default-text-embedding-ada-002 in organization org-Zgvqg40aCEUeeAAUlnbvIafN on requests per min. Limit: 3 / min. Please try again in 20s. Contact us through our help center at help.openai.com if you continue to have issues. Please add a payment method to your account to increase your rate limit. Visit https://platform.openai.com/account/billing to add a payment method..\n",
      "Retrying langchain.embeddings.openai.embed_with_retry.<locals>._embed_with_retry in 4.0 seconds as it raised RateLimitError: Rate limit reached for default-text-embedding-ada-002 in organization org-Zgvqg40aCEUeeAAUlnbvIafN on requests per min. Limit: 3 / min. Please try again in 20s. Contact us through our help center at help.openai.com if you continue to have issues. Please add a payment method to your account to increase your rate limit. Visit https://platform.openai.com/account/billing to add a payment method..\n"
     ]
    }
   ],
   "source": [
    "import pinecone\n",
    "from langchain.vectorstores import Pinecone\n",
    "from langchain.embeddings.openai import OpenAIEmbeddings\n",
    "\n",
    "embeddings=OpenAIEmbeddings()\n",
    "\n",
    "pinecone.init(api_key=os.environ.get(\"PINECONE_API_KEY\"),environment=os.environ.get(\"PINECONE_ENV\"))\n",
    "\n",
    "vector_store= Pinecone.from_documents(chunks,embeddings,index_name=index_name)"
   ]
  },
  {
   "cell_type": "code",
   "execution_count": null,
   "id": "4029af34",
   "metadata": {},
   "outputs": [],
   "source": [
    "index_name= pinecone.list_indexes()[0]"
   ]
  },
  {
   "cell_type": "code",
   "execution_count": null,
   "id": "91b220aa",
   "metadata": {},
   "outputs": [],
   "source": [
    "vector_store=Pinecone.from_existing_index(index_name,embeddings)"
   ]
  },
  {
   "cell_type": "code",
   "execution_count": null,
   "id": "e4367fe0",
   "metadata": {},
   "outputs": [],
   "source": [
    "# creating a loop to question and answer\n",
    "import time\n",
    "\n",
    "i=1\n",
    "flag=True\n",
    "chat_history=[]\n",
    "\n",
    "print(\"Type Exit or Quit to quit.....\")\n",
    "\n",
    "while flag:\n",
    "    query = input(f\"Question #{i}:\")\n",
    "    i+=1\n",
    "    \n",
    "    if query.lower() in [\"quite\",\"exit\"]:\n",
    "        print(\"Good Bye. Exiting.........\")\n",
    "        flag = False\n",
    "        \n",
    "    else:   \n",
    "#         answer= ask_and_get_answer(vector_store, query)\n",
    "        result,chat_history=ask_with_memory(vector_store, query,chat_history)\n",
    "\n",
    "        print(f\"Answer: {answer}\")\n",
    "        print(f'\\n {\"-\"*50}\\n')"
   ]
  },
  {
   "cell_type": "code",
   "execution_count": null,
   "id": "63582090",
   "metadata": {},
   "outputs": [],
   "source": []
  }
 ],
 "metadata": {
  "kernelspec": {
   "display_name": "Python 3 (ipykernel)",
   "language": "python",
   "name": "python3"
  },
  "language_info": {
   "codemirror_mode": {
    "name": "ipython",
    "version": 3
   },
   "file_extension": ".py",
   "mimetype": "text/x-python",
   "name": "python",
   "nbconvert_exporter": "python",
   "pygments_lexer": "ipython3",
   "version": "3.9.12"
  }
 },
 "nbformat": 4,
 "nbformat_minor": 5
}
