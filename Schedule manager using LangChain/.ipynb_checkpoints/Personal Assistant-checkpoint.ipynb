{
 "cells": [
  {
   "cell_type": "markdown",
   "id": "5d4378be",
   "metadata": {},
   "source": [
    "## Python-dotenv"
   ]
  },
  {
   "cell_type": "code",
   "execution_count": 1,
   "id": "5dbe8370",
   "metadata": {},
   "outputs": [
    {
     "data": {
      "text/plain": [
       "True"
      ]
     },
     "execution_count": 1,
     "metadata": {},
     "output_type": "execute_result"
    }
   ],
   "source": [
    "import os\n",
    "from dotenv import load_dotenv,find_dotenv\n",
    "\n",
    "load_dotenv(find_dotenv(), override=True)"
   ]
  },
  {
   "cell_type": "markdown",
   "id": "ced1e531",
   "metadata": {},
   "source": [
    "### Project"
   ]
  },
  {
   "cell_type": "code",
   "execution_count": 2,
   "id": "72b57650",
   "metadata": {},
   "outputs": [],
   "source": [
    "from langchain.output_parsers import StructuredOutputParser, ResponseSchema\n",
    "from langchain.prompts import PromptTemplate\n",
    "from langchain.chat_models import ChatOpenAI\n",
    "from langchain.chains import LLMChain\n",
    "from langchain.docstore.document import Document"
   ]
  },
  {
   "cell_type": "code",
   "execution_count": 3,
   "id": "4c10c7b7",
   "metadata": {},
   "outputs": [],
   "source": [
    "path =\"To do list.txt\""
   ]
  },
  {
   "cell_type": "code",
   "execution_count": 4,
   "id": "55f4ec46",
   "metadata": {},
   "outputs": [],
   "source": [
    "with open(path,encoding='utf-8') as f:\n",
    "    text=f.read()\n",
    "docs=[Document(page_content=text)]"
   ]
  },
  {
   "cell_type": "code",
   "execution_count": 5,
   "id": "483817e5",
   "metadata": {},
   "outputs": [
    {
     "data": {
      "text/plain": [
       "\"7:00 AM: Wake up and morning routine (exercise, shower, breakfast).\\n8:00 AM: Review and respond to urgent emails.\\n9:00 AM: Team meeting to discuss project updates and priorities.\\n10:00 AM: Conference call with international clients to finalize a deal.\\n11:00 AM: Presentation preparation for tomorrow's board meeting.\\n12:30 PM: Networking lunch with a potential business partner.\\n2:00 PM: Strategy session with the marketing team.\\n3:30 PM: Budget review and financial planning with the CFO.\\n5:00 PM: Review and approve reports from various departments.\\n6:00 PM: Brief check-in with the executive team.\\n7:00 PM: Dinner meeting with industry association representatives.\\n9:00 PM: Wind down, review tomorrow's schedule, and respond to any remaining emails.\\n10:00 PM: Relaxation and leisure time.\\n11:00 PM: Bedtime.\""
      ]
     },
     "execution_count": 5,
     "metadata": {},
     "output_type": "execute_result"
    }
   ],
   "source": [
    "docs[0].page_content"
   ]
  },
  {
   "cell_type": "code",
   "execution_count": 6,
   "id": "0657d946",
   "metadata": {},
   "outputs": [],
   "source": [
    "# function to split the data from document_loader to chunks\n",
    "def chunk_data(data,chunk_size=256):\n",
    "    from langchain.text_splitter import RecursiveCharacterTextSplitter\n",
    "    text_splitter = RecursiveCharacterTextSplitter(chunk_size=chunk_size,chunk_overlap=0)\n",
    "    chunks= text_splitter.split_documents(data)\n",
    "    return chunks"
   ]
  },
  {
   "cell_type": "code",
   "execution_count": 7,
   "id": "2b90b033",
   "metadata": {},
   "outputs": [],
   "source": [
    "chunks = chunk_data(docs)"
   ]
  },
  {
   "cell_type": "code",
   "execution_count": 8,
   "id": "2111894d",
   "metadata": {},
   "outputs": [
    {
     "data": {
      "text/plain": [
       "'7:00 AM: Wake up and morning routine (exercise, shower, breakfast).\\n8:00 AM: Review and respond to urgent emails.\\n9:00 AM: Team meeting to discuss project updates and priorities.\\n10:00 AM: Conference call with international clients to finalize a deal.'"
      ]
     },
     "execution_count": 8,
     "metadata": {},
     "output_type": "execute_result"
    }
   ],
   "source": [
    "chunks[0].page_content"
   ]
  },
  {
   "cell_type": "code",
   "execution_count": 9,
   "id": "0fd73617",
   "metadata": {},
   "outputs": [
    {
     "data": {
      "text/plain": [
       "4"
      ]
     },
     "execution_count": 9,
     "metadata": {},
     "output_type": "execute_result"
    }
   ],
   "source": [
    "len(chunks)"
   ]
  },
  {
   "cell_type": "code",
   "execution_count": 10,
   "id": "fdd915d4",
   "metadata": {},
   "outputs": [],
   "source": [
    "# function to calculate and print the cost of creating embeddings\n",
    "def print_embedding_cost(texts):\n",
    "    import tiktoken\n",
    "    enc = tiktoken.encoding_for_model('text-embedding-ada-002')\n",
    "    total_tokens=sum([len(enc.encode(page.page_content))for page in texts])\n",
    "    print(f'Total tokens:{total_tokens}')\n",
    "    print(f'Embedding Cost in USD: {total_tokens/1000 *0.0004:.6f} ')\n",
    " "
   ]
  },
  {
   "cell_type": "code",
   "execution_count": 11,
   "id": "26f83c6c",
   "metadata": {},
   "outputs": [
    {
     "name": "stdout",
     "output_type": "stream",
     "text": [
      "Total tokens:187\n",
      "Embedding Cost in USD: 0.000075 \n"
     ]
    }
   ],
   "source": [
    "print_embedding_cost(chunks)"
   ]
  },
  {
   "cell_type": "code",
   "execution_count": 27,
   "id": "3831be76",
   "metadata": {},
   "outputs": [],
   "source": [
    "template = '''\n",
    "You are my personal assistant, responsible for organizing my tasks, appointments, and activities for each day. \n",
    "I will provide you with my initial schedule, and I'll instruct you on specific changes I want you to make. \n",
    "Your task is to adjust the entire schedule according to the changes I indicate, ensuring a coherent timeline.\n",
    "\n",
    "Here are the details:\n",
    "\n",
    "1. I will list the changes I want, like this:\n",
    "   - Change the meeting with [Person] from 2:00 PM (1400) to 3:30 PM (1530).\n",
    "   - Move the gym session from 5:00 PM (1700) to 6:30 PM (1830).\n",
    "\n",
    "2. You should modify the entire schedule based on the adjustments I provide in choronological order of the schedule and\n",
    "don't add the adjustments at the end of the schedule. Place the adjustment at their choronological position in the schedule\n",
    "\n",
    "3. If I ask for specific details, such as my gym time, please provide the updated information accordingly.\n",
    "\n",
    "4. If I request it, you should be able to search for specific events or appointments in my schedule or make changes as needed.\n",
    "\n",
    "5. Don't add the line e.g. Here is your modified schedule etc.\n",
    "\n",
    "The changes I want you to make: {text}\n",
    "\n",
    "The initial schedule: `{schedule}`\n",
    "\n",
    "format_instructions: {format_instructions}\n",
    "\n",
    "'''\n"
   ]
  },
  {
   "cell_type": "code",
   "execution_count": 28,
   "id": "1c5a6c3c",
   "metadata": {},
   "outputs": [],
   "source": [
    "response_schemas = [\n",
    "    ResponseSchema(name=\"answer\", description=\"answer to the user's question\")\n",
    "]\n",
    "output_parser = StructuredOutputParser.from_response_schemas(response_schemas)"
   ]
  },
  {
   "cell_type": "code",
   "execution_count": 29,
   "id": "6a2317a7",
   "metadata": {},
   "outputs": [],
   "source": [
    "format_instructions = output_parser.get_format_instructions()"
   ]
  },
  {
   "cell_type": "code",
   "execution_count": 30,
   "id": "cdd680d7",
   "metadata": {},
   "outputs": [],
   "source": [
    "prompt = PromptTemplate(\n",
    "    template=template,\n",
    "    input_variables=[\"text\",\"schedule\"],\n",
    "    partial_variables={\"format_instructions\": format_instructions}\n",
    ")"
   ]
  },
  {
   "cell_type": "code",
   "execution_count": 31,
   "id": "0d4de3bf",
   "metadata": {},
   "outputs": [],
   "source": [
    "llm=ChatOpenAI(temperature=0)"
   ]
  },
  {
   "cell_type": "code",
   "execution_count": 32,
   "id": "073e2f4e",
   "metadata": {},
   "outputs": [],
   "source": [
    "chain= LLMChain(llm=llm, prompt=prompt)"
   ]
  },
  {
   "cell_type": "code",
   "execution_count": 33,
   "id": "2dedeecb",
   "metadata": {},
   "outputs": [],
   "source": [
    "request= \"Add a session at 9:11 AM with title thinking about 9:11\""
   ]
  },
  {
   "cell_type": "code",
   "execution_count": 34,
   "id": "fb0804c2",
   "metadata": {},
   "outputs": [],
   "source": [
    "output= chain.run({\"text\":request,\n",
    "                  \"schedule\":docs})"
   ]
  },
  {
   "cell_type": "code",
   "execution_count": 35,
   "id": "261e8eef",
   "metadata": {},
   "outputs": [],
   "source": [
    "output=output_parser.parse(output)"
   ]
  },
  {
   "cell_type": "code",
   "execution_count": 36,
   "id": "66e9153e",
   "metadata": {},
   "outputs": [
    {
     "data": {
      "text/plain": [
       "dict"
      ]
     },
     "execution_count": 36,
     "metadata": {},
     "output_type": "execute_result"
    }
   ],
   "source": [
    "type(output)"
   ]
  },
  {
   "cell_type": "code",
   "execution_count": 37,
   "id": "82fb89ab",
   "metadata": {},
   "outputs": [
    {
     "data": {
      "text/plain": [
       "\"7:00 AM: Wake up and morning routine (exercise, shower, breakfast).\\n8:00 AM: Review and respond to urgent emails.\\n9:00 AM: Team meeting to discuss project updates and priorities.\\n9:11 AM: Thinking about 9:11.\\n10:00 AM: Conference call with international clients to finalize a deal.\\n11:00 AM: Presentation preparation for tomorrow's board meeting.\\n12:30 PM: Networking lunch with a potential business partner.\\n2:00 PM: Strategy session with the marketing team.\\n3:30 PM: Budget review and financial planning with the CFO.\\n5:00 PM: Review and approve reports from various departments.\\n6:00 PM: Brief check-in with the executive team.\\n7:00 PM: Dinner meeting with industry association representatives.\\n9:00 PM: Wind down, review tomorrow's schedule, and respond to any remaining emails.\\n10:00 PM: Relaxation and leisure time.\\n11:00 PM: Bedtime.\""
      ]
     },
     "execution_count": 37,
     "metadata": {},
     "output_type": "execute_result"
    }
   ],
   "source": [
    "output['answer']"
   ]
  },
  {
   "cell_type": "code",
   "execution_count": 38,
   "id": "5911962a",
   "metadata": {},
   "outputs": [],
   "source": [
    "modified_schedule= output['answer']"
   ]
  },
  {
   "cell_type": "code",
   "execution_count": 39,
   "id": "1a5861c8",
   "metadata": {},
   "outputs": [
    {
     "data": {
      "text/plain": [
       "\"7:00 AM: Wake up and morning routine (exercise, shower, breakfast).\\n8:00 AM: Review and respond to urgent emails.\\n9:00 AM: Team meeting to discuss project updates and priorities.\\n9:11 AM: Thinking about 9:11.\\n10:00 AM: Conference call with international clients to finalize a deal.\\n11:00 AM: Presentation preparation for tomorrow's board meeting.\\n12:30 PM: Networking lunch with a potential business partner.\\n2:00 PM: Strategy session with the marketing team.\\n3:30 PM: Budget review and financial planning with the CFO.\\n5:00 PM: Review and approve reports from various departments.\\n6:00 PM: Brief check-in with the executive team.\\n7:00 PM: Dinner meeting with industry association representatives.\\n9:00 PM: Wind down, review tomorrow's schedule, and respond to any remaining emails.\\n10:00 PM: Relaxation and leisure time.\\n11:00 PM: Bedtime.\""
      ]
     },
     "execution_count": 39,
     "metadata": {},
     "output_type": "execute_result"
    }
   ],
   "source": [
    "modified_schedule"
   ]
  },
  {
   "cell_type": "code",
   "execution_count": 40,
   "id": "df90aedc",
   "metadata": {},
   "outputs": [],
   "source": [
    "with open(path, 'w') as f:\n",
    "    # Write the modified contents to the output file\n",
    "    f.write(modified_schedule)"
   ]
  },
  {
   "cell_type": "code",
   "execution_count": null,
   "id": "82a5538e",
   "metadata": {},
   "outputs": [],
   "source": []
  }
 ],
 "metadata": {
  "kernelspec": {
   "display_name": "Python 3 (ipykernel)",
   "language": "python",
   "name": "python3"
  },
  "language_info": {
   "codemirror_mode": {
    "name": "ipython",
    "version": 3
   },
   "file_extension": ".py",
   "mimetype": "text/x-python",
   "name": "python",
   "nbconvert_exporter": "python",
   "pygments_lexer": "ipython3",
   "version": "3.9.12"
  }
 },
 "nbformat": 4,
 "nbformat_minor": 5
}
