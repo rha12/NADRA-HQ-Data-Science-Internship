{
 "cells": [
  {
   "cell_type": "code",
   "execution_count": 1,
   "id": "3fc47a84",
   "metadata": {},
   "outputs": [],
   "source": [
    "!pip install -r ./requirements.txt -q"
   ]
  },
  {
   "cell_type": "code",
   "execution_count": 2,
   "id": "542e7e60",
   "metadata": {},
   "outputs": [
    {
     "name": "stdout",
     "output_type": "stream",
     "text": [
      "Name: langchain\n",
      "Version: 0.0.240\n",
      "Summary: Building applications with LLMs through composability\n",
      "Home-page: https://www.github.com/hwchase17/langchain\n",
      "Author: \n",
      "Author-email: \n",
      "License: MIT\n",
      "Location: c:\\users\\think\\anaconda3\\lib\\site-packages\n",
      "Requires: langsmith, dataclasses-json, async-timeout, aiohttp, openapi-schema-pydantic, requests, pydantic, PyYAML, numexpr, SQLAlchemy, numpy, tenacity\n",
      "Required-by: \n"
     ]
    }
   ],
   "source": [
    "!pip show langchain"
   ]
  },
  {
   "cell_type": "markdown",
   "id": "412ca777",
   "metadata": {},
   "source": [
    "## Python-dotenv"
   ]
  },
  {
   "cell_type": "code",
   "execution_count": 3,
   "id": "30ea3e8e",
   "metadata": {},
   "outputs": [],
   "source": [
    "import os\n",
    "import openai\n",
    "\n",
    "from dotenv import load_dotenv, find_dotenv\n",
    "_ = load_dotenv(find_dotenv()) # read local .env file\n",
    "openai.api_key = os.environ['OPENAI_API_KEY']"
   ]
  },
  {
   "cell_type": "markdown",
   "id": "7150bdd4",
   "metadata": {},
   "source": [
    "### Working with sql database"
   ]
  },
  {
   "cell_type": "code",
   "execution_count": 4,
   "id": "5a5cd504",
   "metadata": {},
   "outputs": [],
   "source": [
    "from langchain import OpenAI, SQLDatabase, SQLDatabaseChain"
   ]
  },
  {
   "cell_type": "code",
   "execution_count": 5,
   "id": "ac9812d4",
   "metadata": {},
   "outputs": [],
   "source": [
    "dburi=\"sqlite:///sqldb.db\""
   ]
  },
  {
   "cell_type": "code",
   "execution_count": 6,
   "id": "dac6382b",
   "metadata": {},
   "outputs": [],
   "source": [
    "db=SQLDatabase.from_uri(dburi)"
   ]
  },
  {
   "cell_type": "code",
   "execution_count": 7,
   "id": "bffe195d",
   "metadata": {},
   "outputs": [],
   "source": [
    "llm=OpenAI(temperature = 0)"
   ]
  },
  {
   "cell_type": "code",
   "execution_count": 8,
   "id": "54bc63dc",
   "metadata": {},
   "outputs": [
    {
     "name": "stderr",
     "output_type": "stream",
     "text": [
      "C:\\Users\\THINK\\anaconda3\\lib\\site-packages\\langchain\\chains\\sql_database\\base.py:66: UserWarning: Directly instantiating an SQLDatabaseChain with an llm is deprecated. Please instantiate with llm_chain argument or using the from_llm class method.\n",
      "  warnings.warn(\n"
     ]
    }
   ],
   "source": [
    "db_chain = SQLDatabaseChain(llm=llm, database= db , verbose= True)"
   ]
  },
  {
   "cell_type": "code",
   "execution_count": 9,
   "id": "fd52b66d",
   "metadata": {},
   "outputs": [
    {
     "name": "stdout",
     "output_type": "stream",
     "text": [
      "\n",
      "\n",
      "\u001b[1m> Entering new SQLDatabaseChain chain...\u001b[0m\n",
      "how many rows are in the table?\n",
      "SQLQuery:\u001b[32;1m\u001b[1;3mSELECT COUNT(*) FROM product_review;\u001b[0m\n",
      "SQLResult: \u001b[33;1m\u001b[1;3m[(7,)]\u001b[0m\n",
      "Answer:\u001b[32;1m\u001b[1;3mThere are 7 rows in the table.\u001b[0m\n",
      "\u001b[1m> Finished chain.\u001b[0m\n"
     ]
    },
    {
     "data": {
      "text/plain": [
       "'There are 7 rows in the table.'"
      ]
     },
     "execution_count": 9,
     "metadata": {},
     "output_type": "execute_result"
    }
   ],
   "source": [
    "db_chain.run(\"how many rows are in the table?\")"
   ]
  },
  {
   "cell_type": "code",
   "execution_count": 10,
   "id": "da7fccd9",
   "metadata": {},
   "outputs": [
    {
     "name": "stdout",
     "output_type": "stream",
     "text": [
      "\n",
      "\n",
      "\u001b[1m> Entering new SQLDatabaseChain chain...\u001b[0m\n",
      "is there any discussion about a king size bedsheet\n",
      "SQLQuery:\u001b[32;1m\u001b[1;3mSELECT \"Product\", \"Review\" FROM product_review WHERE \"Review\" LIKE '%king size%' LIMIT 5;\u001b[0m\n",
      "SQLResult: \u001b[33;1m\u001b[1;3m[('Queen Size Sheet Set', 'I ordered a king size set. My only criticism would be that I wish seller would offer the king size set with 4 pillowcases. I separately ordered a two pack of pillowcases so I could have a total of four. When I saw the two packages, it looked like the color did not exactly match. Customer service...')]\u001b[0m\n",
      "Answer:\u001b[32;1m\u001b[1;3mYes, there is discussion about a king size bedsheet.\u001b[0m\n",
      "\u001b[1m> Finished chain.\u001b[0m\n"
     ]
    },
    {
     "data": {
      "text/plain": [
       "'Yes, there is discussion about a king size bedsheet.'"
      ]
     },
     "execution_count": 10,
     "metadata": {},
     "output_type": "execute_result"
    }
   ],
   "source": [
    "db_chain.run(\"is there any discussion about a king size bedsheet\")"
   ]
  },
  {
   "cell_type": "code",
   "execution_count": null,
   "id": "9496269c",
   "metadata": {},
   "outputs": [],
   "source": []
  }
 ],
 "metadata": {
  "kernelspec": {
   "display_name": "Python 3 (ipykernel)",
   "language": "python",
   "name": "python3"
  },
  "language_info": {
   "codemirror_mode": {
    "name": "ipython",
    "version": 3
   },
   "file_extension": ".py",
   "mimetype": "text/x-python",
   "name": "python",
   "nbconvert_exporter": "python",
   "pygments_lexer": "ipython3",
   "version": "3.9.12"
  }
 },
 "nbformat": 4,
 "nbformat_minor": 5
}
