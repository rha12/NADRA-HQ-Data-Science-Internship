{
 "cells": [
  {
   "cell_type": "markdown",
   "id": "c2aea047",
   "metadata": {},
   "source": [
    " # Summarizing App with LangChain and OpenAI\n",
    " ## Key features:\n",
    "* Provide comprehensive summaries for lengthy documents, condensing hundreds of pages into clear and concise main ideas. The summaries include a well-structured introduction paragraph to set the context and a succinct conclusion to capture the document's key takeaways effectively.\n",
    "\n",
    "* Assist customer service representatives by generating brief and informative summaries of individual customer interactions. These summaries enable representatives to swiftly review past conversations, allowing them to better understand customer needs, address issues efficiently, and deliver more personalized and effective support."
   ]
  },
  {
   "cell_type": "markdown",
   "id": "1e657f95",
   "metadata": {},
   "source": [
    "## Summarization Methods Used:\n",
    "1. Basic Prompt,\n",
    "2. Prompt Templates,\n",
    "3. DocumentStuffChain,\n",
    "4. map_reduce Chain,\n",
    "5. refine Chain,\n",
    "6. LangChain Agents.\n"
   ]
  },
  {
   "cell_type": "markdown",
   "id": "4017f28a",
   "metadata": {},
   "source": [
    "## Python-dotenv"
   ]
  },
  {
   "cell_type": "code",
   "execution_count": 2,
   "id": "e7645026",
   "metadata": {},
   "outputs": [
    {
     "data": {
      "text/plain": [
       "True"
      ]
     },
     "execution_count": 2,
     "metadata": {},
     "output_type": "execute_result"
    }
   ],
   "source": [
    "import os\n",
    "from dotenv import load_dotenv,find_dotenv\n",
    "\n",
    "load_dotenv(find_dotenv(), override=True)"
   ]
  },
  {
   "cell_type": "markdown",
   "id": "49c8c73f",
   "metadata": {},
   "source": [
    "# Summarizing using:"
   ]
  },
  {
   "cell_type": "markdown",
   "id": "57cf3935",
   "metadata": {},
   "source": [
    "## 1) Basic Prompt\n",
    "#### Pros:\n",
    "* Only make single API call to LLM.\n",
    "\n",
    "#### Cons:\n",
    "* Text can not exceed the LLMS token limit.(not for large documents)"
   ]
  },
  {
   "cell_type": "code",
   "execution_count": 4,
   "id": "2ccff1f0",
   "metadata": {},
   "outputs": [],
   "source": [
    "from langchain.chat_models import ChatOpenAI\n",
    "from langchain.schema import (\n",
    "    AIMessage,\n",
    "    HumanMessage,\n",
    "    SystemMessage\n",
    ")"
   ]
  },
  {
   "cell_type": "code",
   "execution_count": 6,
   "id": "0c83d031",
   "metadata": {},
   "outputs": [],
   "source": [
    "# add text to be summarized\n",
    "text = '''ALTHOUGH the question of elections tends to dominate nearly every political discussion in the country nowadays, the odds seem to be stacked against polls being held anytime soon, the closer the incumbent government comes to the end of its term.\n",
    "\n",
    "The executive seems to be using its last days in power to push through legislation and development projects willy-nilly, and with the passage of a controversial amendment expanding the powers of the caretaker government, the likelihood of elections being held within the 60 or 90-day period appears to be dwindling.\n",
    "\n",
    "According to Article 224 of the Constitution, “A general election to the National Assembly or a provincial assembly shall be held within a period of sixty days immediately following the day on which the term of the assembly is due to expire, unless the Assembly has been sooner dissolved”.\n",
    "\n",
    "In case of early dissolution, the Election Commission of Pakistan is bound to hold the general elections within a period of ninety days after the dissolution, according to Article 224(2).\n",
    "\n",
    "Delaying the polls will lead the country into “dangerous territory”, says Pak­istan Institute for Legislative Deve­lopment and Transparency (Pildat) President Ahmad Bilal Mahboob.\n",
    "\n",
    "Questioning the need to empower the caretaker setup, which has a constitutionally-mandated life of either 60 or 90 days, Mr Mahboob notes that interim governments already have powers to make decisions of an urgent nature.\n",
    "\n",
    "He feels that the fresh amendment opens up the possibility that the tenure of the caretaker set-up may be extended, as and when required.\n",
    "\n",
    "In his view, the move piloted by the PML-N seems to have the blessing of the establishment, but other allies such as the PPP may have been kept out of the loop.\n",
    "\n",
    "He posits that floating the name of PML-N stalwart Ishaq Dar for the post of interim prime minister could be an indicator that elections may not be held within 60 or 90 days.\n",
    "\n",
    "“In case the polls are delayed, the PML-N wants to have its man in the saddle and it has revealed its hand by proposing the name of Mr Dar,” he maintains.\n",
    "\n",
    "Whatever the case may be, it is obvious that revealing Mr Dar as a potential candidate for the interim PM’s slot has backfired, and many party leaders are now attempting to row back his candidature.\n",
    "\n",
    "The latest to do so was Rana Sanaullah, who claimed during a televised interview on Friday that Mr Dar’s name was “neither suggested nor rejected”.\n",
    "\n",
    "Noted political scientist Hasan Askari Rizvi, who has served as a former caretaker chief minister in Punjab, doubts the ‘purity’ of the intentions behind empowering the caretaker set-up, saying that delaying the polls will be a violation of the Constitution.\n",
    "\n",
    "“The job of the caretakers is to hold polls, either in 60 or 90 days, not to sign new international agreements. Rather, no international body is interested in entering into any agreement with a caretaker government around the world.”\n",
    "\n",
    "He maintains that there seems to be no call for such an amendment, that is, if elections are to be held within 60 or 90 days. With its passage, however, it seems that this has been done to keep options open in case the elections don’t yield the ‘desired results’.\n",
    "\n",
    "In Dr Rizvi’s opinion, both the ruling party and the military establishment appear to be on the same page on this piece of legislation.\n",
    "\n",
    "“Currently, several options are being reviewed and the decision whether to hold elections or not will be taken in mid-August,” he predicts.\n",
    "\n",
    "For its part, the opposition PTI sees itself as the intended target of the amended Elections Act, terming it among a number of contingency plans being put in place to stop the Imran Khan-led party from returning to power.\n",
    "\n",
    "In fact, party spokesperson Raoof Hassan contends that the establishment and the government want to have more than one option at their disposal if things do not go their way and Mr Khan is not contained ahead of the elections.\n",
    "\n",
    "“They can make an excuse about the poor economy to defer the elections,” he says. However, he is somewhat optimistic about the imminent changing of the guard at the apex court.\n",
    "\n",
    "“They [the powers that be] are also waiting for a change of command in the Supreme Court, but I have a feeling that Justice Qazi Faiz Essa will give them a shock,” Mr Hasan says when asked to explain his optimism.\n",
    "\n",
    "While no leaders from the PPP or PML-N were willing to speak on the record, a source close to the Sharif family claimed that elections would only be held “once Imran Khan goes to jail”.\n",
    "\n",
    "“An understanding was reached between the Sharifs and the establishment, and the amendment is a result of that,” the source said.\n",
    "\n",
    "However, it is the PML-N’s apparent closeness with the powers that be which is making the PPP rather uncomfortable, even if they choose not to admit it out loud.\n",
    "\n",
    "Observers feel that the severity of the party’s reaction to the floating of Ishaq Dar’s name as a candidate for interim PM speaks to their apprehensions, and that is why they have suggested that a neutral ‘seasoned politician’ should be considered for the job.\n",
    "\n",
    "However, insiders insist that Nawaz Sharif has no problem with polls being delayed, as long as they have someone ‘trustworthy’ in the driver’s seat during the transition period.\n",
    "\n",
    "When asked to comment on whether the party is waiting for Imran Khan to be jailed before announcing polls, PM’s aide and PML-N leader Attaullah Tarar told Dawn that the cases against the PTI chief have nothing to do with the elections.\n",
    "\n",
    "“Each case has its own merits and procedures to be followed… and each has its own timeline for conclusion. PTI is deploying delay tactics based on technicalities, which is to their own detriment.”'''"
   ]
  },
  {
   "cell_type": "code",
   "execution_count": 7,
   "id": "05b8ddb6",
   "metadata": {},
   "outputs": [],
   "source": [
    "messages=[\n",
    "    SystemMessage(content=\"You are an expert copywriter with expertize\\\n",
    "    in summarizing documents\"),\n",
    "    HumanMessage(content=f\"Please provide a summary for the following text:\\n \\\n",
    "    TEXT:{text}\")\n",
    "]\n",
    "\n",
    "llm=ChatOpenAI(temperature=0)"
   ]
  },
  {
   "cell_type": "code",
   "execution_count": 8,
   "id": "f2beb1db",
   "metadata": {},
   "outputs": [
    {
     "data": {
      "text/plain": [
       "1182"
      ]
     },
     "execution_count": 8,
     "metadata": {},
     "output_type": "execute_result"
    }
   ],
   "source": [
    "# estimate of the tokens, actual number may vary\n",
    "llm.get_num_tokens(text)"
   ]
  },
  {
   "cell_type": "code",
   "execution_count": 9,
   "id": "b0a3d0f1",
   "metadata": {},
   "outputs": [],
   "source": [
    "summary=llm(messages)"
   ]
  },
  {
   "cell_type": "code",
   "execution_count": 10,
   "id": "73c7247c",
   "metadata": {},
   "outputs": [
    {
     "name": "stdout",
     "output_type": "stream",
     "text": [
      "The likelihood of elections being held in Pakistan within the 60 or 90-day period is diminishing, as the incumbent government is using its remaining time in power to push through legislation and development projects. The passage of a controversial amendment expanding the powers of the caretaker government further suggests that elections may be delayed. The Pakistan Institute for Legislative Development and Transparency warns that delaying the polls will lead the country into dangerous territory. The amendment has raised concerns about the possibility of extending the tenure of the caretaker setup. The proposal to appoint Ishaq Dar as interim prime minister indicates that elections may not be held within the designated timeframe. Political scientist Hasan Askari Rizvi questions the intentions behind empowering the caretaker setup and believes that delaying the polls would be a violation of the Constitution. The ruling party and the military establishment appear to be aligned on this legislation. The opposition PTI sees the amended Elections Act as a contingency plan to prevent their return to power. The PPP and PML-N have reservations about the amendment, with the PML-N's apparent closeness to the establishment causing discomfort for the PPP. The severity of the PPP's reaction to the suggestion of Ishaq Dar as interim PM reflects their concerns. The PML-N is not opposed to delaying the polls as long as a trustworthy person is in charge during the transition period.\n"
     ]
    }
   ],
   "source": [
    "print(summary.content)"
   ]
  },
  {
   "cell_type": "markdown",
   "id": "9dd387a4",
   "metadata": {},
   "source": [
    "## 2) Promt Templates\n",
    "#### Pros:\n",
    "* Only make single API call to LLM.\n",
    "\n",
    "#### Cons:\n",
    "* Text can not exceed the LLMS token limit.(not for large documents)"
   ]
  },
  {
   "cell_type": "code",
   "execution_count": 11,
   "id": "24e6deb7",
   "metadata": {},
   "outputs": [],
   "source": [
    "from langchain import PromptTemplate\n",
    "from langchain.chains import LLMChain"
   ]
  },
  {
   "cell_type": "code",
   "execution_count": 16,
   "id": "afaa20d7",
   "metadata": {},
   "outputs": [],
   "source": [
    "template = '''\n",
    "Write a concise and short summary of the following text:\n",
    "Text: '{text}'\n",
    "Translate the summary to {language}\n",
    "'''\n",
    "\n",
    "prompt = PromptTemplate.from_template(template)"
   ]
  },
  {
   "cell_type": "code",
   "execution_count": 17,
   "id": "90f3bda3",
   "metadata": {},
   "outputs": [
    {
     "data": {
      "text/plain": [
       "PromptTemplate(input_variables=['language', 'text'], output_parser=None, partial_variables={}, template=\"\\nWrite a concise and short summary of the following text:\\nText: '{text}'\\nTranslate the summary to {language}\\n\", template_format='f-string', validate_template=True)"
      ]
     },
     "execution_count": 17,
     "metadata": {},
     "output_type": "execute_result"
    }
   ],
   "source": [
    "prompt"
   ]
  },
  {
   "cell_type": "code",
   "execution_count": 19,
   "id": "3a6ef57b",
   "metadata": {},
   "outputs": [],
   "source": [
    "chain = LLMChain(llm=llm,prompt=prompt)"
   ]
  },
  {
   "cell_type": "code",
   "execution_count": 20,
   "id": "b4e07bf7",
   "metadata": {},
   "outputs": [],
   "source": [
    "summary= chain.run({'text':text,'language':\"Urdu\"})"
   ]
  },
  {
   "cell_type": "code",
   "execution_count": 22,
   "id": "31b6dd36",
   "metadata": {},
   "outputs": [
    {
     "name": "stdout",
     "output_type": "stream",
     "text": [
      "انتخابات کے سوال کو تقریباً ہر سیاسی بحث میں تسلط کرنے کے باوجود، موجودہ حکومت کے آخری دنوں میں انتخابات کا منظرہ کمزور ہو رہا ہے۔ تنظیمی حکومت ، قانون سازی اور ترقیاتی منصوبوں کو بے پروائی سے منظور کرنے کے لئے اپنے آخری دنوں کا استعمال کر رہی ہے ، اور متنازعہ ترمیم کے ذریعے جو عناصر کی حکومت کی طاقتوں کو بڑھانے کا ایک اصلاحی ترمیم کے ساتھ ہوئی ہے ، انتخابات کا منظرہ 60 یا 90 دن کے دوران کم ہو رہا ہے۔\n",
      "\n",
      "دستور کے مضمون 224 کے مطابق ، \"قومی اسمبلی یا صوبائی اسمبلی کے لئے عام انتخابات کو اسمبلی کی مدت ختم ہونے والے دن کے فوراً بعد کے چھ سے ساٹھ دنوں کے دوران منعقد کیا جائے گا ، مگر اگر اسمبلی کو پہلے ہی منسلک کر دیا گیا ہو۔\"\n",
      "\n",
      "جلدی منسلک کرنے کی صورت میں ، پاکستان الیکشن کمیشن کو منسلک کرنا لازمی ہوتا ہے کہ انتخابات کو منسلک کرنے کا فیصلہ منسلک کرنے کے بعد ننانوے دنوں کے دوران کیا جائے ، مضمون 224 (2) کے مطابق۔\n",
      "\n",
      "انتخابات میں تاخیر ملک کو \"خطرناک علاقے\" میں لے جائے گی ، پاکستان انسٹی ٹیوٹ برائے قانون سازی اور شفافیت (پلیڈیٹ) کے صدر احمد بلال محبوب کے مطابق۔\n",
      "\n",
      "انتقالی نظام کو مستقل طور پر اہم فیصلوں کا فیصلہ کرنے کی قوتیں پہلے ہی ہوتی ہیں ، اس کی ضرورت پر سوال کرتے ہوئے ، محبوب صاحب نے نوٹ کیا ہے کہ نئے ترمیم نے انتقالی نظام کی عہد کو بڑھانے کی امکان کھول دی ہے ، جب ضرورت ہو۔\n",
      "\n",
      "ان کے نظریہ کے مطابق ، PML-N کی طرف سے پیش کی گئی حرکت کے مطابق ، انتخابات 60 یا 90 دنوں کے اندر نہیں ہوں گی۔\n",
      "\n",
      "\"اگر انتخابات میں تاخیر ہوتی ہے تو PML-N کو اپنے آدمی کو سوار کرنا چاہتی ہے اور یہ اپنے ہاتھ کھول کر دیا ہے کہ آقاق دار کے نام کا پیش کرنے کے ذریعے ،\" وہ کہتے ہیں۔\n",
      "\n",
      "کچھ بھی ہو ، صاف ظاہر ہے کہ انتقالی وزیر اعظم کے لئے اسم کا اعلان کرنا ناکامی کا باعث ہوا ہے ، اور بہت سے پارٹی کے رہنما اب اس کے امیدواری کو واپس لے جانے کی کوشش کر رہے ہیں۔\n",
      "\n",
      "جمعہ کو ٹیلی ویژن پر ایک مصاحبے کے دوران رانا ثناء اللہ نے کہا کہ آقاق دار کا نام \"نہ تجویز کیا گیا ہے نہ منسوخ کیا گیا ہے\"۔\n",
      "\n",
      "مشہور سیاسی سائنسدان حسن عسکری رضوی ، جو پنجاب میں سابق انتقالی وزیر اعظم کے طور پر خدمت کر چکے ہیں ، انتقالی نظام کو طاقتوں کی پاکیزگی پر شکوہ کرتے ہیں ، کہ انتخابات کی تاخیر دستور کی خلاف ورزی ہوگی۔\n",
      "\n",
      "\"انتقالی حکام کا کام ہے کہ وہ انتخابات منعقد کریں ، چاہے وہ 60 یا 90 دنوں کے اندر ہوں ، نئے بین الاقوامی معاہدات کو منظور کرنے کے لئے نہیں۔ بلکہ دنیا بھر میں کوئی بین الاقوامی تنظیم کسی بھی معاہدے میں دخل دینے کے لئے کسی بھی انتقالی حکومت سے دلچسپی نہیں رکھتی ہے۔\"\n",
      "\n",
      "ان کے خیال میں ، حکومتی پارٹی اور فوجی ادارہ اس قانون کے اس حصے پر ایک ہی صفحے پر نظر آتے ہیں۔\n",
      "\n",
      "\"حالیکہ ، کئی اختیارات کا جائزہ لیا جا رہا ہے اور انتخابات منعقد کرنے یا نہ کرنے کا فیصلہ اگست کے درمیان لیا جائے گا\" ، وہ پیشگوئی کرتے ہیں۔\n",
      "\n",
      "اس کے برعکس ، اپوزیشن PTI خود کو ترمیم شدہ الیکشن ایکٹ کا مطلب سمجھتی ہے ، جس کو امراٹ کے روکنے کے لئے بنائے جانے والے کئی منصوبوں میں سے ایک کے طور پر دیکھتی ہے۔\n",
      "\n",
      "حقیقت میں ، پارٹی کے ترجمان رآف حسن کہتے ہیں کہ ادارہ اور حکومت کو اگر چیزیں انتخابات کے سامنے نہیں ہوتیں تو ان کے پاس ایک سے زیادہ اختیارات ہونے کی خواہش ہے اور انتخابات سے پہلے عمران خان کو روکا نہیں جا سکتا ہے۔\n",
      "\n",
      "\"وہ معذرت کر سکتے ہیں کہ معیشت کی بدحالی کی بنا پر انتخابات مؤخر کریں\" ، وہ کہتے ہیں۔ البتہ ، وہ عدالت کے اعلیٰ عہدے کی تبدیلی کی توقع میں تھوڑا امیدوار ہیں۔\n",
      "\n",
      "\"وہ (طاقتوں کی) بھی توقع کر رہے ہیں کہ عدالت عظمیٰ کی کمان تبدیل ہوگی ، لیکن میرا خیال ہے کہ جسٹس قاضی فیض عیسی انہیں ایک جھٹکا دیں گے\" ، جب ان سے ان کی امیدواری کی وضاحت کرنے کے لئے پوچھا جاتا ہے۔\n",
      "\n",
      "PPP یا PML-N کے کسی بھی رہنما کو ریکارڈ پر بات کرنے ک\n"
     ]
    }
   ],
   "source": [
    "print(summary)"
   ]
  },
  {
   "cell_type": "markdown",
   "id": "f85cff31",
   "metadata": {},
   "source": [
    "## StuffDocumentChain:\n",
    "#### Pros:\n",
    "* Only make single API call to LLM.\n",
    "\n",
    "#### Cons:\n",
    "* Text can not exceed the LLMS token limit.(not for large documents)"
   ]
  },
  {
   "cell_type": "code",
   "execution_count": 30,
   "id": "236ac6b7",
   "metadata": {},
   "outputs": [],
   "source": [
    "from langchain.chat_models import ChatOpenAI\n",
    "from langchain import PromptTemplate\n",
    "from langchain.chains.summarize import load_summarize_chain\n",
    "from langchain.docstore.document import Document"
   ]
  },
  {
   "cell_type": "code",
   "execution_count": 44,
   "id": "b834c721",
   "metadata": {},
   "outputs": [],
   "source": [
    "path =\"files/I Have A Dream Speech.txt\""
   ]
  },
  {
   "cell_type": "code",
   "execution_count": 45,
   "id": "1c07c2b1",
   "metadata": {},
   "outputs": [],
   "source": [
    "with open(path,encoding='utf-8') as f:\n",
    "    text=f.read()\n",
    "docs=[Document(page_content=text)]"
   ]
  },
  {
   "cell_type": "code",
   "execution_count": 49,
   "id": "ff89bc27",
   "metadata": {},
   "outputs": [
    {
     "data": {
      "text/plain": [
       "'I am happy to join with you today in what will go down \\nin history as the greatest demonstration for freedom in \\nthe histmy of olw nation. \\nFive smre yeag ago a great American in whw sp\\x02Imlic shadow we stand today signed the Emancipation \\nProshation. This momen~tous deoree is a great W n \\nlight of hope to millions of Negro slaves who had been \\nseared in the flames of withering injustice. It cmm ais a \\njoyous d:tybreak to end the long night of their captivity. \\nBut 100 years later the Negro still is nok free. One hun\\x02dred yearn later the life of t,he Xegro is still badly \\ncrippled by the manacles of segregation and the chains of \\ndiwrimination. One hundred gears later the Negro lives \\non a lonely island of povedp in the mjidst d a vast meam \\nof matr.ria1 prosperity. Ow hundred years later the \\nNegao is still lanlgnisl~cd ill the cornem of American \\n=ie$ and finds hinleclf in exile in his m lad. So \\nwu\\'vc come ho1.c. today to (1mma.tize a shamdul ccmditicm. \\nIn a sense w~tl\\'wGome to our nation\\'s capital to cash \\na c+heck. When the aJrrahiteet.s o~f our Republic wrote the \\nmzpifiemt WOI-(1s of the Constitution and the hlaration \\nd Lmdepcintlc.nce, thcp were signing a promissory note to \\nwhich ewry hlerioan was to fall heir. This note was a \\npromise that. dl IWII-yes, black nwn as well as white \\nme-n-would he g~al.a~ltwdthe unalienable rights of life, \\nliberty and the pursuit of happiness. It is obvious today \\ntha$ America has defaulted on this promissory note inso\\x02fkr as hnr citizens of cololr arc c.oncerned. Ins\\'tead of ,-\\nhonoring this sacred obligation, ~me&a has given the \\nNepo people a bad deck, a check whioh has come back \\nmarked \"inisrdfioient funds. \" \\nBut we refuse to believe that tihe bank of justice is \\ntmikrupt. We ~.ef,fuseto belierc? that there are insufficient \\nSuncis in the gma,t vaults of opportunity of this nation. \\nSo we\\'ve come to cash this check, ti check that will give \\n11s upon demand the ridlcs of f~eedom and the security of \\njustice. \\nWe have dw conic to this hallowed spot to remind \\nAmerica of the fierce urgcacp of now. This is no time to \\ncl~g,agcin the 11ixui~ of cooling off or to ta.ke the t-ran\\x02quilizing di-ng of gradualism. Now is the time to make \\nleal the prmlisos of democracy. Now is the time to rise \\nfrom the dark and rlcsolatt. valley of segregation to the \\nmillit path of racial j~wticc~.Now is the time to lift our \\nion from the qaicksands of racial injustice to the solid \\nrock of bbr.fitfherhowl. \\nNow is the time t.o nlalrc justice a 1-mlity for all a€ \\nGod\\'s child~en. It wo~.ltlbe fatd for the nation to over\\x02look the urgency of the momen,t. This swelte&.g summer \\nof the Xegro\\'s legitimate discontent. will nat pass until \\nthere is an invigol-atiag autumn of freedm and equality \\n-1963 is not an end but rz beginning. who hope \\nthat the Xegro needed to blow off sim.m and will now be \\nc*cmtenlwill have a ndc a wakening if the miioln retumw \\nto business as wud. \\nThere will be neither rest nor tranquility In America, \\nuntil the Negro is granted his fiitizenship rights. The \\nwhirlwinds of revolt will con:t.inue to shake the fouda\\x02tiom of our nation until the bright dqs of justice merge. \\n(Copyright 1963. MARTINLCTI-XFRKIW., JR.) \\nAnii that is something that I must say to my people who \\nat& an the worn threshold whioh leads the palm \\nof justice. In the prmess d gaining our rightful plw \\nwe must not be guilty of wrongful deeds. Let us not \\nseek to satisfy our thirst for freedom by dl-i;nking from \\nthe cup of bithrness anld hahd. \\nWe must forever conduct our struggle cm t~he high plane \\nof dignity and diwipline. We must not allow oar erea\\x02tive proltests to degenerate into physicd videme. Again \\nand again we must. rise to t<he maje&ic heights of m&t.ing \\nphysical form with soul force. The marvelous new mili\\x02tancy whi& has engulfed the Negro communi.ty must not \\nlead us t.o distrust all white people, for mamy d our white \\nbro;tlwr.s, as evidenced by their presence here today, have \\ncome to realize that tlheir destiny is tied up with our \\ndestiny. \\nThey have come t30 realize that their freedom is in\\x02extricably hound to qur fredorn. We cannot walk alone. \\nAnd rn we walk we must make the pledge that we shall \\nalways march ahead. We cannot turn back. There are \\nthase who atweasldng the devotees of civil rights, \"When \\nwill you be satisfied?\" We can never be satisfied as lomg \\nas the Negro is the victim of the unspeakable horrors of , \\npolice brutality. \\nTire can never. be mtisficd as long as our bodie~s,heavy \\nwith the fatigue of travel, cannot gain lodging in the \\nmatds of the highways and the hot& od the &ties. \\nWe mnmt be satisfied as long as the Negro\\'s basic \\nmobility is from a smaller ghetto to a larger one. We \\ncan never be satisfied a+slong as our children are atripped \\nof the,ir adulthood and robbed of their dignity by signs \\nstating \"For Whites Only.\" \\n(Copyright 1963. MARTIHLUTHERKING, JR.) \\nWe canad be srtthfid a63 10% as the-Negro in Mis\\x02sisbippi oannot vote and the %fegro\\' in New York believes \\nhe has nothing for prrbiah to vde. 6 \\\\ \\n. No, no, we are not satisfied, dwe will wit be sakis\\x02Eed until justice. rolls down like wakemi azEd rightemm~ \\nlike ,a mighty beam. \\nI ain not unmindful that some otf you have cde here \\' ,\\nout of\\' gm.t trials a.nd tribulation. Some of you have \\ncome frewh from narrow jail dls. Some of you have \\' \\noom4 from areas where your ,quest for freedm left you \\n1m.ttered by the stoms of persecuhn and stagger& by \\nthe winds of police brutality. You have been the veterans\\' \\nof creative suffering. \\nContinue to work with the faith that- nmmd sufferkg \\nis redemptive. Go baek to hiississippi, go back to Ala\\x02f hma, go back to Sonth Carolina, go back to Georgia, go . \\ntwk to Louisiana, go back to the slum and ghet-tm d our \\nNmthern cities, knowing t.bt somehow this situation &an \\nand will be cihamged. Lit us not wa.Ilow in the vailey of \\ndespair. \\nI say to you %day,my friends, though, even though \\nwe face the difficultiesof toclay and torno~~ow, I still haw \\na dream. It is a dream deeply rooted in the Amerieaa \\ncham. I have a dream thak me day this nation will rise \\nup, live out the true meaning of its creed: \"We hold these \\ntruths to be self-erident, that all men are created equal.\" \\nI have a dream tbt olle day on the red hills of Georgia \\nsow of for~rmei- slaves and the *om of former slave-owners \\nwill be able to sit down together at tqhe table of brother\\x02hod. I have a dream that one day even the state of \\nMississippi, a state sweltering with the beat d injustice, \\n(Copyright 1963, MARTINLUTHF~KING, JR.) \\nsweltering with tihe heat of oppression, will be trans\\x02f\\'onned hto an oasis of freedom and \\'justice. \\nI have a ream that my four little children will me day \\nlive in a 13iat.icmwhere they will not be judged by the oololr \\nof ;their ~kiibut by the content of their &rmtm.r.r I have \\nu dram . . . I have a dresjlm that one cEay in AJabama., \\nwith ibs vbious racists, with its governor h.avin.g his lips \\ndripping with the wards of interpwitim wd nullifi+tion, \\none day right t.here in Alabama little black boys and black \\ngirls will be able to join hands with litkle white boyis and \\nwhite girls as sist&s and brothers. \\n1 bvg a dream today . . . I have a aream that one day \\nevery vadley shall be exdted, every hill and mountain \\n&dl be made low. The rough places wild be made plain, \\naad the crooked places \\'will be made straight. &nd the \\nglory of the Lord shall be rereal&, and all flesh &all see \\nit together. This is our hope. This is thle faith that 1 \\ngo I>aolc to bhhc Sout.h wi1,h. Wikh this faith we will be \\nable to hew out d the mount& of despair a stane of \\nI~o~rn.Vith this faith we will be able to transform the \\njsl~gling discords of our nation into a b~utif~l symphony \\ncd\\' brotherhwd. MTith this faith we will be able ta work \\ntogether, to pray to get he^, to struggle together, to go to \\njail together, to stand ap for freedom @ether, knowing \\nthat we will he frre one day. \\nThis will be the day when all of God\\'s ahildren will be \\nable to sing with new meaning. \"My country, \\'tis of thee, \\nswot lami of liberty, of the I sing. Land where my \\n?\\'athers did, land of the pilgrim\\'s pride, from every \\nn~ountain side, let freedom ring.\" And if herim is to \\nhe rr great nation, this mudt become true. So let freedom \\nsing from the pr~igious hilltops d New Hampshire. \\nLet freedom ring from the mighty mountains of New \\n(Copyright 1963, MARTISIXI\\'HERKING,JR.) \\nPark. kt,freedom ring from the heightertiing Allegknies \\nof Pennsylvania. kt freedom ring frm the mowcapped \\nRmkias o& Colorado. Let freedom ring from the eurva\\x02c+mus slow of California. \\nBut nat hnly that. Let freedom rhg from Stone Msun\\x02tain of Georgia. Let freedom ring from Looko;ut Moun\\x02t-& of Tmcj.ssee. kt freedom ring from every hill and \\nmolehill of hGssiwippi, from every mounhin side. Let \\nfreedom ring . . . When we allow freedom to ring-when we let it ring \\nfrom every city and every ha.mlet, from every s~tate and \\nevery aity, we will be able to speed up that day when dl \\nCUF God\\'s children, black men and white men, Jews and \\nGentiles, Proteslhts and Catholim, will be able to join \\nhands and sing in the words of the old Negro spiritual, \\n\"Fm at last, Free at last, Great God a-mighty, We axe \\nfree at last.\"'"
      ]
     },
     "execution_count": 49,
     "metadata": {},
     "output_type": "execute_result"
    }
   ],
   "source": [
    "docs[0].page_content"
   ]
  },
  {
   "cell_type": "code",
   "execution_count": 47,
   "id": "1661a51b",
   "metadata": {},
   "outputs": [],
   "source": [
    "llm=ChatOpenAI(temperature=0)"
   ]
  },
  {
   "cell_type": "code",
   "execution_count": 54,
   "id": "1cf631b7",
   "metadata": {},
   "outputs": [],
   "source": [
    "template = '''\n",
    "Write a concise and short summary of the following text:\n",
    "Text: '{text}'\n",
    "'''\n",
    "\n",
    "prompt = PromptTemplate.from_template(template)"
   ]
  },
  {
   "cell_type": "code",
   "execution_count": 51,
   "id": "45fe58ca",
   "metadata": {},
   "outputs": [],
   "source": [
    "chain=load_summarize_chain(\n",
    "    llm=llm,\n",
    "    prompt=prompt,\n",
    "    verbose=False\n",
    ")"
   ]
  },
  {
   "cell_type": "code",
   "execution_count": 55,
   "id": "24fa693a",
   "metadata": {},
   "outputs": [],
   "source": [
    "summary= chain.run(docs)"
   ]
  },
  {
   "cell_type": "code",
   "execution_count": 56,
   "id": "392bf3d6",
   "metadata": {},
   "outputs": [
    {
     "name": "stdout",
     "output_type": "stream",
     "text": [
      "The text is a speech by Martin Luther King Jr. during the Civil Rights Movement. He discusses the ongoing struggle for freedom and equality for African Americans, emphasizing the need for justice and the fulfillment of America's promises. He expresses his dream of a future where all people are judged by their character rather than their race, and where freedom and equality are achieved for all.\n"
     ]
    }
   ],
   "source": [
    "print(summary)"
   ]
  },
  {
   "cell_type": "code",
   "execution_count": null,
   "id": "dc463522",
   "metadata": {},
   "outputs": [],
   "source": []
  }
 ],
 "metadata": {
  "kernelspec": {
   "display_name": "Python 3 (ipykernel)",
   "language": "python",
   "name": "python3"
  },
  "language_info": {
   "codemirror_mode": {
    "name": "ipython",
    "version": 3
   },
   "file_extension": ".py",
   "mimetype": "text/x-python",
   "name": "python",
   "nbconvert_exporter": "python",
   "pygments_lexer": "ipython3",
   "version": "3.9.12"
  }
 },
 "nbformat": 4,
 "nbformat_minor": 5
}
